{
  "nbformat": 4,
  "nbformat_minor": 0,
  "metadata": {
    "colab": {
      "provenance": []
    },
    "kernelspec": {
      "name": "python3",
      "display_name": "Python 3"
    },
    "language_info": {
      "name": "python"
    }
  },
  "cells": [
    {
      "cell_type": "code",
      "execution_count": 1,
      "metadata": {
        "colab": {
          "base_uri": "https://localhost:8080/"
        },
        "id": "5_30T9H2kVJr",
        "outputId": "46f9683a-9c74-4b1a-c9e8-5cd74ab4db77"
      },
      "outputs": [
        {
          "output_type": "stream",
          "name": "stdout",
          "text": [
            "Collecting dlt[bigquerry]\n",
            "  Downloading dlt-1.7.0-py3-none-any.whl.metadata (11 kB)\n",
            "\u001b[33mWARNING: dlt 1.7.0 does not provide the extra 'bigquerry'\u001b[0m\u001b[33m\n",
            "\u001b[0mRequirement already satisfied: PyYAML>=5.4.1 in /usr/local/lib/python3.11/dist-packages (from dlt[bigquerry]) (6.0.2)\n",
            "Requirement already satisfied: click>=7.1 in /usr/local/lib/python3.11/dist-packages (from dlt[bigquerry]) (8.1.8)\n",
            "Requirement already satisfied: fsspec>=2022.4.0 in /usr/local/lib/python3.11/dist-packages (from dlt[bigquerry]) (2024.10.0)\n",
            "Requirement already satisfied: gitpython>=3.1.29 in /usr/local/lib/python3.11/dist-packages (from dlt[bigquerry]) (3.1.44)\n",
            "Collecting giturlparse>=0.10.0 (from dlt[bigquerry])\n",
            "  Downloading giturlparse-0.12.0-py2.py3-none-any.whl.metadata (4.5 kB)\n",
            "Collecting hexbytes>=0.2.2 (from dlt[bigquerry])\n",
            "  Downloading hexbytes-1.3.0-py3-none-any.whl.metadata (3.3 kB)\n",
            "Requirement already satisfied: humanize>=4.4.0 in /usr/local/lib/python3.11/dist-packages (from dlt[bigquerry]) (4.11.0)\n",
            "Collecting jsonpath-ng>=1.5.3 (from dlt[bigquerry])\n",
            "  Downloading jsonpath_ng-1.7.0-py3-none-any.whl.metadata (18 kB)\n",
            "Collecting makefun>=1.15.0 (from dlt[bigquerry])\n",
            "  Downloading makefun-1.15.6-py2.py3-none-any.whl.metadata (3.2 kB)\n",
            "Requirement already satisfied: orjson!=3.10.1,!=3.9.11,!=3.9.12,!=3.9.13,!=3.9.14,<4,>=3.6.7 in /usr/local/lib/python3.11/dist-packages (from dlt[bigquerry]) (3.10.15)\n",
            "Requirement already satisfied: packaging>=21.1 in /usr/local/lib/python3.11/dist-packages (from dlt[bigquerry]) (24.2)\n",
            "Collecting pathvalidate>=2.5.2 (from dlt[bigquerry])\n",
            "  Downloading pathvalidate-3.2.3-py3-none-any.whl.metadata (12 kB)\n",
            "Collecting pendulum>=2.1.2 (from dlt[bigquerry])\n",
            "  Downloading pendulum-3.0.0-cp311-cp311-manylinux_2_17_x86_64.manylinux2014_x86_64.whl.metadata (6.9 kB)\n",
            "Requirement already satisfied: pluggy>=1.3.0 in /usr/local/lib/python3.11/dist-packages (from dlt[bigquerry]) (1.5.0)\n",
            "Requirement already satisfied: pytz>=2022.6 in /usr/local/lib/python3.11/dist-packages (from dlt[bigquerry]) (2025.1)\n",
            "Requirement already satisfied: requests>=2.26.0 in /usr/local/lib/python3.11/dist-packages (from dlt[bigquerry]) (2.32.3)\n",
            "Requirement already satisfied: requirements-parser>=0.5.0 in /usr/local/lib/python3.11/dist-packages (from dlt[bigquerry]) (0.9.0)\n",
            "Collecting rich-argparse<2.0.0,>=1.6.0 (from dlt[bigquerry])\n",
            "  Downloading rich_argparse-1.7.0-py3-none-any.whl.metadata (14 kB)\n",
            "Collecting semver>=3.0.0 (from dlt[bigquerry])\n",
            "  Downloading semver-3.0.4-py3-none-any.whl.metadata (6.8 kB)\n",
            "Requirement already satisfied: setuptools>=65.6.0 in /usr/local/lib/python3.11/dist-packages (from dlt[bigquerry]) (75.1.0)\n",
            "Collecting simplejson>=3.17.5 (from dlt[bigquerry])\n",
            "  Downloading simplejson-3.20.1-cp311-cp311-manylinux_2_5_x86_64.manylinux1_x86_64.manylinux_2_17_x86_64.manylinux2014_x86_64.whl.metadata (3.2 kB)\n",
            "Requirement already satisfied: tenacity>=8.0.2 in /usr/local/lib/python3.11/dist-packages (from dlt[bigquerry]) (9.0.0)\n",
            "Collecting tomlkit>=0.11.3 (from dlt[bigquerry])\n",
            "  Downloading tomlkit-0.13.2-py3-none-any.whl.metadata (2.7 kB)\n",
            "Requirement already satisfied: typing-extensions>=4.8.0 in /usr/local/lib/python3.11/dist-packages (from dlt[bigquerry]) (4.12.2)\n",
            "Requirement already satisfied: tzdata>=2022.1 in /usr/local/lib/python3.11/dist-packages (from dlt[bigquerry]) (2025.1)\n",
            "Requirement already satisfied: gitdb<5,>=4.0.1 in /usr/local/lib/python3.11/dist-packages (from gitpython>=3.1.29->dlt[bigquerry]) (4.0.12)\n",
            "Requirement already satisfied: ply in /usr/local/lib/python3.11/dist-packages (from jsonpath-ng>=1.5.3->dlt[bigquerry]) (3.11)\n",
            "Requirement already satisfied: python-dateutil>=2.6 in /usr/local/lib/python3.11/dist-packages (from pendulum>=2.1.2->dlt[bigquerry]) (2.8.2)\n",
            "Collecting time-machine>=2.6.0 (from pendulum>=2.1.2->dlt[bigquerry])\n",
            "  Downloading time_machine-2.16.0-cp311-cp311-manylinux_2_5_x86_64.manylinux1_x86_64.manylinux_2_17_x86_64.manylinux2014_x86_64.whl.metadata (21 kB)\n",
            "Requirement already satisfied: charset-normalizer<4,>=2 in /usr/local/lib/python3.11/dist-packages (from requests>=2.26.0->dlt[bigquerry]) (3.4.1)\n",
            "Requirement already satisfied: idna<4,>=2.5 in /usr/local/lib/python3.11/dist-packages (from requests>=2.26.0->dlt[bigquerry]) (3.10)\n",
            "Requirement already satisfied: urllib3<3,>=1.21.1 in /usr/local/lib/python3.11/dist-packages (from requests>=2.26.0->dlt[bigquerry]) (2.3.0)\n",
            "Requirement already satisfied: certifi>=2017.4.17 in /usr/local/lib/python3.11/dist-packages (from requests>=2.26.0->dlt[bigquerry]) (2025.1.31)\n",
            "Requirement already satisfied: types-setuptools>=69.1.0 in /usr/local/lib/python3.11/dist-packages (from requirements-parser>=0.5.0->dlt[bigquerry]) (75.8.0.20250210)\n",
            "Requirement already satisfied: rich>=11.0.0 in /usr/local/lib/python3.11/dist-packages (from rich-argparse<2.0.0,>=1.6.0->dlt[bigquerry]) (13.9.4)\n",
            "Requirement already satisfied: smmap<6,>=3.0.1 in /usr/local/lib/python3.11/dist-packages (from gitdb<5,>=4.0.1->gitpython>=3.1.29->dlt[bigquerry]) (5.0.2)\n",
            "Requirement already satisfied: six>=1.5 in /usr/local/lib/python3.11/dist-packages (from python-dateutil>=2.6->pendulum>=2.1.2->dlt[bigquerry]) (1.17.0)\n",
            "Requirement already satisfied: markdown-it-py>=2.2.0 in /usr/local/lib/python3.11/dist-packages (from rich>=11.0.0->rich-argparse<2.0.0,>=1.6.0->dlt[bigquerry]) (3.0.0)\n",
            "Requirement already satisfied: pygments<3.0.0,>=2.13.0 in /usr/local/lib/python3.11/dist-packages (from rich>=11.0.0->rich-argparse<2.0.0,>=1.6.0->dlt[bigquerry]) (2.18.0)\n",
            "Requirement already satisfied: mdurl~=0.1 in /usr/local/lib/python3.11/dist-packages (from markdown-it-py>=2.2.0->rich>=11.0.0->rich-argparse<2.0.0,>=1.6.0->dlt[bigquerry]) (0.1.2)\n",
            "Downloading giturlparse-0.12.0-py2.py3-none-any.whl (15 kB)\n",
            "Downloading hexbytes-1.3.0-py3-none-any.whl (4.9 kB)\n",
            "Downloading jsonpath_ng-1.7.0-py3-none-any.whl (30 kB)\n",
            "Downloading makefun-1.15.6-py2.py3-none-any.whl (22 kB)\n",
            "Downloading pathvalidate-3.2.3-py3-none-any.whl (24 kB)\n",
            "Downloading pendulum-3.0.0-cp311-cp311-manylinux_2_17_x86_64.manylinux2014_x86_64.whl (384 kB)\n",
            "\u001b[2K   \u001b[90m━━━━━━━━━━━━━━━━━━━━━━━━━━━━━━━━━━━━━━━━\u001b[0m \u001b[32m384.9/384.9 kB\u001b[0m \u001b[31m12.8 MB/s\u001b[0m eta \u001b[36m0:00:00\u001b[0m\n",
            "\u001b[?25hDownloading rich_argparse-1.7.0-py3-none-any.whl (25 kB)\n",
            "Downloading semver-3.0.4-py3-none-any.whl (17 kB)\n",
            "Downloading simplejson-3.20.1-cp311-cp311-manylinux_2_5_x86_64.manylinux1_x86_64.manylinux_2_17_x86_64.manylinux2014_x86_64.whl (144 kB)\n",
            "\u001b[2K   \u001b[90m━━━━━━━━━━━━━━━━━━━━━━━━━━━━━━━━━━━━━━━━\u001b[0m \u001b[32m144.8/144.8 kB\u001b[0m \u001b[31m9.7 MB/s\u001b[0m eta \u001b[36m0:00:00\u001b[0m\n",
            "\u001b[?25hDownloading tomlkit-0.13.2-py3-none-any.whl (37 kB)\n",
            "Downloading dlt-1.7.0-py3-none-any.whl (892 kB)\n",
            "\u001b[2K   \u001b[90m━━━━━━━━━━━━━━━━━━━━━━━━━━━━━━━━━━━━━━━━\u001b[0m \u001b[32m892.4/892.4 kB\u001b[0m \u001b[31m24.5 MB/s\u001b[0m eta \u001b[36m0:00:00\u001b[0m\n",
            "\u001b[?25hDownloading time_machine-2.16.0-cp311-cp311-manylinux_2_5_x86_64.manylinux1_x86_64.manylinux_2_17_x86_64.manylinux2014_x86_64.whl (32 kB)\n",
            "Installing collected packages: makefun, tomlkit, simplejson, semver, pathvalidate, jsonpath-ng, hexbytes, giturlparse, time-machine, rich-argparse, pendulum, dlt\n",
            "Successfully installed dlt-1.7.0 giturlparse-0.12.0 hexbytes-1.3.0 jsonpath-ng-1.7.0 makefun-1.15.6 pathvalidate-3.2.3 pendulum-3.0.0 rich-argparse-1.7.0 semver-3.0.4 simplejson-3.20.1 time-machine-2.16.0 tomlkit-0.13.2\n"
          ]
        }
      ],
      "source": [
        "!pip install dlt[bigquerry]"
      ]
    },
    {
      "cell_type": "code",
      "source": [
        "import json\n",
        "import os\n",
        "import toml\n",
        "import requests\n",
        "import dlt\n",
        "from dlt.sources.filesystem import filesystem, read_parquet\n",
        "from google.cloud import storage"
      ],
      "metadata": {
        "id": "Ep2QnmHYkajL"
      },
      "execution_count": 26,
      "outputs": []
    },
    {
      "cell_type": "code",
      "source": [
        "config = toml.load(\"secrets.toml\")"
      ],
      "metadata": {
        "id": "1zVZ9DUHkg2Q"
      },
      "execution_count": 27,
      "outputs": []
    },
    {
      "cell_type": "code",
      "source": [
        "# Set environment variables\n",
        "os.environ[\"CREDENTIALS__PROJECT_ID\"] = config[\"credentials\"][\"project_id\"]\n",
        "os.environ[\"CREDENTIALS__PRIVATE_KEY\"] = config[\"credentials\"][\"private_key\"]\n",
        "os.environ[\"CREDENTIALS__CLIENT_EMAIL\"] = config[\"credentials\"][\"client_email\"]"
      ],
      "metadata": {
        "id": "hDkr6aBWlAQb"
      },
      "execution_count": 28,
      "outputs": []
    },
    {
      "cell_type": "code",
      "source": [
        "# Initialize GCS client\n",
        "storage_client = storage.Client.from_service_account_json(\"taxi-data-447320-f8c1bacf517f.json\")\n",
        "bucket_name = \"taxi-data-447320-bqbucket\"  #  your GCS bucket name\n",
        "bucket = storage_client.bucket(bucket_name)"
      ],
      "metadata": {
        "id": "MDinQGBnlFBA"
      },
      "execution_count": 29,
      "outputs": []
    },
    {
      "cell_type": "code",
      "source": [
        "def download_and_upload_csv():\n",
        "    # List of CSV file URLs (Replace these URLs with the actual ones)\n",
        "    # csv_urls = [\n",
        "    #     \"https://github.com/DataTalksClub/nyc-tlc-data/releases/download/yellow/yellow_tripdata_2019-01.csv.gz\",\n",
        "    #     \"https://github.com/DataTalksClub/nyc-tlc-data/releases/download/yellow/yellow_tripdata_2019-02.csv.gz\",\n",
        "    #     \"https://github.com/DataTalksClub/nyc-tlc-data/releases/download/yellow/yellow_tripdata_2019-03.csv.gz\",\n",
        "    #     \"https://github.com/DataTalksClub/nyc-tlc-data/releases/download/yellow/yellow_tripdata_2019-04.csv.gz\",\n",
        "    #     \"https://github.com/DataTalksClub/nyc-tlc-data/releases/download/yellow/yellow_tripdata_2019-05.csv.gz\",\n",
        "    #     \"https://github.com/DataTalksClub/nyc-tlc-data/releases/download/yellow/yellow_tripdata_2019-06.csv.gz\",\n",
        "    #     \"https://github.com/DataTalksClub/nyc-tlc-data/releases/download/yellow/yellow_tripdata_2019-07.csv.gz\",\n",
        "    #     \"https://github.com/DataTalksClub/nyc-tlc-data/releases/download/yellow/yellow_tripdata_2019-08.csv.gz\",\n",
        "    #     \"https://github.com/DataTalksClub/nyc-tlc-data/releases/download/yellow/yellow_tripdata_2019-09.csv.gz\",\n",
        "    #     \"https://github.com/DataTalksClub/nyc-tlc-data/releases/download/yellow/yellow_tripdata_2019-10.csv.gz\",\n",
        "    #     \"https://github.com/DataTalksClub/nyc-tlc-data/releases/download/yellow/yellow_tripdata_2019-11.csv.gz\",\n",
        "    #     \"https://github.com/DataTalksClub/nyc-tlc-data/releases/download/yellow/yellow_tripdata_2019-12.csv.gz\",\n",
        "    #     \"https://github.com/DataTalksClub/nyc-tlc-data/releases/download/yellow/yellow_tripdata_2020-01.csv.gz\",\n",
        "    #     \"https://github.com/DataTalksClub/nyc-tlc-data/releases/download/yellow/yellow_tripdata_2020-02.csv.gz\",\n",
        "    #     \"https://github.com/DataTalksClub/nyc-tlc-data/releases/download/yellow/yellow_tripdata_2020-03.csv.gz\",\n",
        "    #     \"https://github.com/DataTalksClub/nyc-tlc-data/releases/download/yellow/yellow_tripdata_2020-04.csv.gz\",\n",
        "    #     \"https://github.com/DataTalksClub/nyc-tlc-data/releases/download/yellow/yellow_tripdata_2020-05.csv.gz\",\n",
        "    #     \"https://github.com/DataTalksClub/nyc-tlc-data/releases/download/yellow/yellow_tripdata_2020-06.csv.gz\",\n",
        "    #     \"https://github.com/DataTalksClub/nyc-tlc-data/releases/download/yellow/yellow_tripdata_2020-07.csv.gz\",\n",
        "    #     \"https://github.com/DataTalksClub/nyc-tlc-data/releases/download/yellow/yellow_tripdata_2020-08.csv.gz\",\n",
        "    #     \"https://github.com/DataTalksClub/nyc-tlc-data/releases/download/yellow/yellow_tripdata_2020-09.csv.gz\",\n",
        "    #     \"https://github.com/DataTalksClub/nyc-tlc-data/releases/download/yellow/yellow_tripdata_2020-10.csv.gz\",\n",
        "    #     \"https://github.com/DataTalksClub/nyc-tlc-data/releases/download/yellow/yellow_tripdata_2020-11.csv.gz\",\n",
        "    #     \"https://github.com/DataTalksClub/nyc-tlc-data/releases/download/yellow/yellow_tripdata_2020-12.csv.gz\"\n",
        "    # ]\n",
        "    # csv_urls = [\n",
        "    #       # 2019 Data\n",
        "    #       \"https://github.com/DataTalksClub/nyc-tlc-data/releases/download/green/green_tripdata_2019-01.csv.gz\",\n",
        "    #       \"https://github.com/DataTalksClub/nyc-tlc-data/releases/download/green/green_tripdata_2019-02.csv.gz\",\n",
        "    #       \"https://github.com/DataTalksClub/nyc-tlc-data/releases/download/green/green_tripdata_2019-03.csv.gz\",\n",
        "    #       \"https://github.com/DataTalksClub/nyc-tlc-data/releases/download/green/green_tripdata_2019-04.csv.gz\",\n",
        "    #       \"https://github.com/DataTalksClub/nyc-tlc-data/releases/download/green/green_tripdata_2019-05.csv.gz\",\n",
        "    #       \"https://github.com/DataTalksClub/nyc-tlc-data/releases/download/green/green_tripdata_2019-06.csv.gz\",\n",
        "    #       \"https://github.com/DataTalksClub/nyc-tlc-data/releases/download/green/green_tripdata_2019-07.csv.gz\",\n",
        "    #       \"https://github.com/DataTalksClub/nyc-tlc-data/releases/download/green/green_tripdata_2019-08.csv.gz\",\n",
        "    #       \"https://github.com/DataTalksClub/nyc-tlc-data/releases/download/green/green_tripdata_2019-09.csv.gz\",\n",
        "    #       \"https://github.com/DataTalksClub/nyc-tlc-data/releases/download/green/green_tripdata_2019-10.csv.gz\",\n",
        "    #       \"https://github.com/DataTalksClub/nyc-tlc-data/releases/download/green/green_tripdata_2019-11.csv.gz\",\n",
        "    #       \"https://github.com/DataTalksClub/nyc-tlc-data/releases/download/green/green_tripdata_2019-12.csv.gz\",\n",
        "\n",
        "    #       # 2020 Data\n",
        "    #       \"https://github.com/DataTalksClub/nyc-tlc-data/releases/download/green/green_tripdata_2020-01.csv.gz\",\n",
        "    #       \"https://github.com/DataTalksClub/nyc-tlc-data/releases/download/green/green_tripdata_2020-02.csv.gz\",\n",
        "    #       \"https://github.com/DataTalksClub/nyc-tlc-data/releases/download/green/green_tripdata_2020-03.csv.gz\",\n",
        "    #       \"https://github.com/DataTalksClub/nyc-tlc-data/releases/download/green/green_tripdata_2020-04.csv.gz\",\n",
        "    #       \"https://github.com/DataTalksClub/nyc-tlc-data/releases/download/green/green_tripdata_2020-05.csv.gz\",\n",
        "    #       \"https://github.com/DataTalksClub/nyc-tlc-data/releases/download/green/green_tripdata_2020-06.csv.gz\",\n",
        "    #       \"https://github.com/DataTalksClub/nyc-tlc-data/releases/download/green/green_tripdata_2020-07.csv.gz\",\n",
        "    #       \"https://github.com/DataTalksClub/nyc-tlc-data/releases/download/green/green_tripdata_2020-08.csv.gz\",\n",
        "    #       \"https://github.com/DataTalksClub/nyc-tlc-data/releases/download/green/green_tripdata_2020-09.csv.gz\",\n",
        "    #       \"https://github.com/DataTalksClub/nyc-tlc-data/releases/download/green/green_tripdata_2020-10.csv.gz\",\n",
        "    #       \"https://github.com/DataTalksClub/nyc-tlc-data/releases/download/green/green_tripdata_2020-11.csv.gz\",\n",
        "    #       \"https://github.com/DataTalksClub/nyc-tlc-data/releases/download/green/green_tripdata_2020-12.csv.gz\"\n",
        "    #       ]\n",
        "    csv_urls = [\n",
        "    # 2019 Data\n",
        "    \"https://github.com/DataTalksClub/nyc-tlc-data/releases/download/fhv/fhv_tripdata_2019-01.csv.gz\",\n",
        "    \"https://github.com/DataTalksClub/nyc-tlc-data/releases/download/fhv/fhv_tripdata_2019-02.csv.gz\",\n",
        "    \"https://github.com/DataTalksClub/nyc-tlc-data/releases/download/fhv/fhv_tripdata_2019-03.csv.gz\",\n",
        "    \"https://github.com/DataTalksClub/nyc-tlc-data/releases/download/fhv/fhv_tripdata_2019-04.csv.gz\",\n",
        "    \"https://github.com/DataTalksClub/nyc-tlc-data/releases/download/fhv/fhv_tripdata_2019-05.csv.gz\",\n",
        "    \"https://github.com/DataTalksClub/nyc-tlc-data/releases/download/fhv/fhv_tripdata_2019-06.csv.gz\",\n",
        "    \"https://github.com/DataTalksClub/nyc-tlc-data/releases/download/fhv/fhv_tripdata_2019-07.csv.gz\",\n",
        "    \"https://github.com/DataTalksClub/nyc-tlc-data/releases/download/fhv/fhv_tripdata_2019-08.csv.gz\",\n",
        "    \"https://github.com/DataTalksClub/nyc-tlc-data/releases/download/fhv/fhv_tripdata_2019-09.csv.gz\",\n",
        "    \"https://github.com/DataTalksClub/nyc-tlc-data/releases/download/fhv/fhv_tripdata_2019-10.csv.gz\",\n",
        "    \"https://github.com/DataTalksClub/nyc-tlc-data/releases/download/fhv/fhv_tripdata_2019-11.csv.gz\",\n",
        "    \"https://github.com/DataTalksClub/nyc-tlc-data/releases/download/fhv/fhv_tripdata_2019-12.csv.gz\"\n",
        "\n",
        "\n",
        "]\n",
        "\n",
        "\n",
        "    # Loop through each URL, download, and upload to GCS\n",
        "    gcs_files = []\n",
        "    for url in csv_urls:\n",
        "        file_name = url.split(\"/\")[-1]  # Extract the file name from the URL\n",
        "        # gcs_blob = bucket.blob(f\"yellow_taxi_trips/{file_name}\")\n",
        "\n",
        "        gcs_blob = bucket.blob(f\"fhv_trips/{file_name}\")\n",
        "\n",
        "        print(f\"Downloading {url} and uploading to GCS as {file_name}\")\n",
        "        response = requests.get(url)\n",
        "        gcs_blob.upload_from_string(response.content)\n",
        "        gcs_files.append(f\"gs://{bucket_name}/fhv_trips/{file_name}\")\n",
        "\n",
        "    return gcs_files"
      ],
      "metadata": {
        "id": "M0NHLScHley_"
      },
      "execution_count": 32,
      "outputs": []
    },
    {
      "cell_type": "code",
      "source": [
        "# Download and upload the CSV files\n",
        "gcs_files = download_and_upload_csv()"
      ],
      "metadata": {
        "colab": {
          "base_uri": "https://localhost:8080/"
        },
        "id": "oAyBGx2Om_xH",
        "outputId": "2a013b12-eafb-4397-bda0-46e29fce509a"
      },
      "execution_count": 33,
      "outputs": [
        {
          "output_type": "stream",
          "name": "stdout",
          "text": [
            "Downloading https://github.com/DataTalksClub/nyc-tlc-data/releases/download/fhv/fhv_tripdata_2019-01.csv.gz and uploading to GCS as fhv_tripdata_2019-01.csv.gz\n",
            "Downloading https://github.com/DataTalksClub/nyc-tlc-data/releases/download/fhv/fhv_tripdata_2019-02.csv.gz and uploading to GCS as fhv_tripdata_2019-02.csv.gz\n",
            "Downloading https://github.com/DataTalksClub/nyc-tlc-data/releases/download/fhv/fhv_tripdata_2019-03.csv.gz and uploading to GCS as fhv_tripdata_2019-03.csv.gz\n",
            "Downloading https://github.com/DataTalksClub/nyc-tlc-data/releases/download/fhv/fhv_tripdata_2019-04.csv.gz and uploading to GCS as fhv_tripdata_2019-04.csv.gz\n",
            "Downloading https://github.com/DataTalksClub/nyc-tlc-data/releases/download/fhv/fhv_tripdata_2019-05.csv.gz and uploading to GCS as fhv_tripdata_2019-05.csv.gz\n",
            "Downloading https://github.com/DataTalksClub/nyc-tlc-data/releases/download/fhv/fhv_tripdata_2019-06.csv.gz and uploading to GCS as fhv_tripdata_2019-06.csv.gz\n",
            "Downloading https://github.com/DataTalksClub/nyc-tlc-data/releases/download/fhv/fhv_tripdata_2019-07.csv.gz and uploading to GCS as fhv_tripdata_2019-07.csv.gz\n",
            "Downloading https://github.com/DataTalksClub/nyc-tlc-data/releases/download/fhv/fhv_tripdata_2019-08.csv.gz and uploading to GCS as fhv_tripdata_2019-08.csv.gz\n",
            "Downloading https://github.com/DataTalksClub/nyc-tlc-data/releases/download/fhv/fhv_tripdata_2019-09.csv.gz and uploading to GCS as fhv_tripdata_2019-09.csv.gz\n",
            "Downloading https://github.com/DataTalksClub/nyc-tlc-data/releases/download/fhv/fhv_tripdata_2019-10.csv.gz and uploading to GCS as fhv_tripdata_2019-10.csv.gz\n",
            "Downloading https://github.com/DataTalksClub/nyc-tlc-data/releases/download/fhv/fhv_tripdata_2019-11.csv.gz and uploading to GCS as fhv_tripdata_2019-11.csv.gz\n",
            "Downloading https://github.com/DataTalksClub/nyc-tlc-data/releases/download/fhv/fhv_tripdata_2019-12.csv.gz and uploading to GCS as fhv_tripdata_2019-12.csv.gz\n"
          ]
        }
      ]
    },
    {
      "cell_type": "code",
      "source": [],
      "metadata": {
        "id": "WDmjHuF1oZvZ"
      },
      "execution_count": null,
      "outputs": []
    }
  ]
}